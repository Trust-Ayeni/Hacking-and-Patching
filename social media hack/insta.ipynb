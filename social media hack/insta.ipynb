{
 "cells": [
  {
   "cell_type": "code",
   "execution_count": 2,
   "metadata": {},
   "outputs": [
    {
     "name": "stderr",
     "output_type": "stream",
     "text": [
      "INFO [2022-07-11 17:38:19] [hacked.ryzen]  Workspace in use: \"C:/Users/trust/InstaPy\"\n"
     ]
    },
    {
     "name": "stdout",
     "output_type": "stream",
     "text": [
      "InstaPy Version: 0.6.16\n",
      " ._.  ._.  ._.  ._.  ._.  ._.  ._.  ._.  ._.  ._.  ._.  ._.  ._.  ._.  ._.  ._.  ._. \n"
     ]
    },
    {
     "name": "stderr",
     "output_type": "stream",
     "text": [
      "INFO [2022-07-11 17:38:29] [hacked.ryzen]  Session started!\n"
     ]
    },
    {
     "name": "stdout",
     "output_type": "stream",
     "text": [
      "OOOOOOOOOOOOOOOOOOOOOOOOOOOOOOOOOOOOOOOOOOOOOOOOOOOOOO\n",
      "oooooooooooooooooooooooooooooooooooooooooooooooooooooo\n"
     ]
    },
    {
     "name": "stderr",
     "output_type": "stream",
     "text": [
      "INFO [2022-07-11 17:38:39] [hacked.ryzen]  - Cookie file for user 'hacked.ryzen' loaded...\n",
      "INFO [2022-07-11 17:39:05] [hacked.ryzen]  Logged in successfully!\n",
      "INFO [2022-07-11 17:39:05] [hacked.ryzen]  Saving account progress...\n"
     ]
    },
    {
     "name": "stdout",
     "output_type": "stream",
     "text": [
      "..................................................................\n",
      "''''''''''''''''''''''''''''''''''''''''''''''''''''''''''''''''''\n"
     ]
    },
    {
     "name": "stderr",
     "output_type": "stream",
     "text": [
      "WARNING [2022-07-11 17:39:54] [hacked.ryzen]  Unable to save account progress, skipping data update \n",
      "\tb'Message: TypeError: browsingContext.currentWindowGlobal is null\\nStacktrace:\\ngetMarionetteCommandsActorProxy/get/<@chrome://remote/content/marionette/actors/MarionetteCommandsParent.jsm:332:29\\nobserve@resource://gre/modules/AsyncShutdown.jsm:575:16\\n'\n",
      "ERROR [2022-07-11 17:39:55] [hacked.ryzen]  Error occurred while deleting cookies from web browser!\n",
      "\tb'Message: Tried to run command without establishing a connection\\n'\n",
      "Traceback (most recent call last):\n",
      "  File \"c:\\Users\\trust\\AppData\\Local\\Programs\\Python\\Python310\\lib\\site-packages\\instapy\\util.py\", line 1983, in smart_run\n",
      "    session.login()\n",
      "  File \"c:\\Users\\trust\\AppData\\Local\\Programs\\Python\\Python310\\lib\\site-packages\\instapy\\instapy.py\", line 475, in login\n",
      "    self.followed_by = log_follower_num(self.browser, self.username, self.logfolder)\n",
      "  File \"c:\\Users\\trust\\AppData\\Local\\Programs\\Python\\Python310\\lib\\site-packages\\instapy\\print_log_writer.py\", line 19, in log_follower_num\n",
      "    web_address_navigator(browser, user_link)\n",
      "  File \"c:\\Users\\trust\\AppData\\Local\\Programs\\Python\\Python310\\lib\\site-packages\\instapy\\util.py\", line 1314, in web_address_navigator\n",
      "    browser.get(link)\n",
      "  File \"c:\\Users\\trust\\AppData\\Local\\Programs\\Python\\Python310\\lib\\site-packages\\selenium\\webdriver\\remote\\webdriver.py\", line 447, in get\n",
      "    self.execute(Command.GET, {'url': url})\n",
      "  File \"c:\\Users\\trust\\AppData\\Local\\Programs\\Python\\Python310\\lib\\site-packages\\selenium\\webdriver\\remote\\webdriver.py\", line 435, in execute\n",
      "    self.error_handler.check_response(response)\n",
      "  File \"c:\\Users\\trust\\AppData\\Local\\Programs\\Python\\Python310\\lib\\site-packages\\selenium\\webdriver\\remote\\errorhandler.py\", line 247, in check_response\n",
      "    raise exception_class(message, screen, stacktrace)\n",
      "selenium.common.exceptions.WebDriverException: Message: Failed to decode response from marionette\n",
      "\n",
      "\n",
      "During handling of the above exception, another exception occurred:\n",
      "\n",
      "Traceback (most recent call last):\n",
      "  File \"c:\\Users\\trust\\AppData\\Local\\Programs\\Python\\Python310\\lib\\site-packages\\instapy\\browser.py\", line 189, in close_browser\n",
      "    browser.delete_all_cookies()\n",
      "  File \"c:\\Users\\trust\\AppData\\Local\\Programs\\Python\\Python310\\lib\\site-packages\\selenium\\webdriver\\remote\\webdriver.py\", line 721, in delete_all_cookies\n",
      "    self.execute(Command.DELETE_ALL_COOKIES)\n",
      "  File \"c:\\Users\\trust\\AppData\\Local\\Programs\\Python\\Python310\\lib\\site-packages\\selenium\\webdriver\\remote\\webdriver.py\", line 435, in execute\n",
      "    self.error_handler.check_response(response)\n",
      "  File \"c:\\Users\\trust\\AppData\\Local\\Programs\\Python\\Python310\\lib\\site-packages\\selenium\\webdriver\\remote\\errorhandler.py\", line 247, in check_response\n",
      "    raise exception_class(message, screen, stacktrace)\n",
      "selenium.common.exceptions.InvalidSessionIdException: Message: Tried to run command without establishing a connection\n",
      "\n",
      "INFO [2022-07-11 17:39:55] [hacked.ryzen]  Sessional Live Report:\n",
      "\t|> No any statistics to show\n",
      "\n",
      "\n",
      "[Session lasted 1.59 minutes]\n",
      "INFO [2022-07-11 17:39:55] [hacked.ryzen]  Session ended!\n"
     ]
    },
    {
     "name": "stdout",
     "output_type": "stream",
     "text": [
      "\n",
      "OOOOOOOOOOOOOOOOOOOOOOOOOOOOOOOOOOOOOOOOOOOOOOOOOOOOOOOOO\n",
      "ooooooooooooooooooooooooooooooooooooooooooooooooooooooooo\n",
      "\n",
      "\n",
      "\n"
     ]
    },
    {
     "ename": "WebDriverException",
     "evalue": "Message: Failed to decode response from marionette\n",
     "output_type": "error",
     "traceback": [
      "\u001b[1;31m---------------------------------------------------------------------------\u001b[0m",
      "\u001b[1;31mWebDriverException\u001b[0m                        Traceback (most recent call last)",
      "\u001b[1;32mc:\\Users\\trust\\Desktop\\instabot\\insta.ipynb Cell 1\u001b[0m in \u001b[0;36m<cell line: 10>\u001b[1;34m()\u001b[0m\n\u001b[0;32m      <a href='vscode-notebook-cell:/c%3A/Users/trust/Desktop/instabot/insta.ipynb#ch0000000?line=4'>5</a>\u001b[0m my_password \u001b[39m=\u001b[39m \u001b[39m\"\u001b[39m\u001b[39mdlink123\u001b[39m\u001b[39m\"\u001b[39m\n\u001b[0;32m      <a href='vscode-notebook-cell:/c%3A/Users/trust/Desktop/instabot/insta.ipynb#ch0000000?line=7'>8</a>\u001b[0m session \u001b[39m=\u001b[39m InstaPy(username\u001b[39m=\u001b[39m\u001b[39m'\u001b[39m\u001b[39mhacked.ryzen\u001b[39m\u001b[39m'\u001b[39m, password\u001b[39m=\u001b[39m\u001b[39m'\u001b[39m\u001b[39mdlink123\u001b[39m\u001b[39m'\u001b[39m, headless_browser\u001b[39m=\u001b[39m\u001b[39mFalse\u001b[39;00m, want_check_browser\u001b[39m=\u001b[39m\u001b[39mFalse\u001b[39;00m)\n\u001b[1;32m---> <a href='vscode-notebook-cell:/c%3A/Users/trust/Desktop/instabot/insta.ipynb#ch0000000?line=9'>10</a>\u001b[0m \u001b[39mwith\u001b[39;00m smart_run(session):\n\u001b[0;32m     <a href='vscode-notebook-cell:/c%3A/Users/trust/Desktop/instabot/insta.ipynb#ch0000000?line=10'>11</a>\u001b[0m     session\u001b[39m.\u001b[39mlike_by_list([\u001b[39m'\u001b[39m\u001b[39mbmw\u001b[39m\u001b[39m'\u001b[39m, \u001b[39m'\u001b[39m\u001b[39mmercedes\u001b[39m\u001b[39m'\u001b[39m, \u001b[39m'\u001b[39m\u001b[39mapple\u001b[39m\u001b[39m'\u001b[39m, \u001b[39m'\u001b[39m\u001b[39mibm\u001b[39m\u001b[39m'\u001b[39m, \u001b[39m'\u001b[39m\u001b[39mamazon\u001b[39m\u001b[39m'\u001b[39m], times\u001b[39m=\u001b[39m\u001b[39m1\u001b[39m, sleep_delay\u001b[39m=\u001b[39m\u001b[39m600\u001b[39m)\n",
      "File \u001b[1;32mc:\\Users\\trust\\AppData\\Local\\Programs\\Python\\Python310\\lib\\contextlib.py:135\u001b[0m, in \u001b[0;36m_GeneratorContextManager.__enter__\u001b[1;34m(self)\u001b[0m\n\u001b[0;32m    133\u001b[0m \u001b[39mdel\u001b[39;00m \u001b[39mself\u001b[39m\u001b[39m.\u001b[39margs, \u001b[39mself\u001b[39m\u001b[39m.\u001b[39mkwds, \u001b[39mself\u001b[39m\u001b[39m.\u001b[39mfunc\n\u001b[0;32m    134\u001b[0m \u001b[39mtry\u001b[39;00m:\n\u001b[1;32m--> 135\u001b[0m     \u001b[39mreturn\u001b[39;00m \u001b[39mnext\u001b[39;49m(\u001b[39mself\u001b[39;49m\u001b[39m.\u001b[39;49mgen)\n\u001b[0;32m    136\u001b[0m \u001b[39mexcept\u001b[39;00m \u001b[39mStopIteration\u001b[39;00m:\n\u001b[0;32m    137\u001b[0m     \u001b[39mraise\u001b[39;00m \u001b[39mRuntimeError\u001b[39;00m(\u001b[39m\"\u001b[39m\u001b[39mgenerator didn\u001b[39m\u001b[39m'\u001b[39m\u001b[39mt yield\u001b[39m\u001b[39m\"\u001b[39m) \u001b[39mfrom\u001b[39;00m \u001b[39mNone\u001b[39m\n",
      "File \u001b[1;32mc:\\Users\\trust\\AppData\\Local\\Programs\\Python\\Python310\\lib\\site-packages\\instapy\\util.py:1983\u001b[0m, in \u001b[0;36msmart_run\u001b[1;34m(session, threaded)\u001b[0m\n\u001b[0;32m   1980\u001b[0m \u001b[39m@contextmanager\u001b[39m\n\u001b[0;32m   1981\u001b[0m \u001b[39mdef\u001b[39;00m \u001b[39msmart_run\u001b[39m(session, threaded\u001b[39m=\u001b[39m\u001b[39mFalse\u001b[39;00m):\n\u001b[0;32m   1982\u001b[0m     \u001b[39mtry\u001b[39;00m:\n\u001b[1;32m-> 1983\u001b[0m         session\u001b[39m.\u001b[39;49mlogin()\n\u001b[0;32m   1984\u001b[0m         \u001b[39myield\u001b[39;00m\n\u001b[0;32m   1985\u001b[0m     \u001b[39mexcept\u001b[39;00m NoSuchElementException:\n\u001b[0;32m   1986\u001b[0m         \u001b[39m# The problem is with a change in IG page layout\u001b[39;00m\n",
      "File \u001b[1;32mc:\\Users\\trust\\AppData\\Local\\Programs\\Python\\Python310\\lib\\site-packages\\instapy\\instapy.py:475\u001b[0m, in \u001b[0;36mInstaPy.login\u001b[1;34m(self)\u001b[0m\n\u001b[0;32m    466\u001b[0m     \u001b[39mself\u001b[39m\u001b[39m.\u001b[39mlogger\u001b[39m.\u001b[39mwarning(\n\u001b[0;32m    467\u001b[0m         \u001b[39m\"\u001b[39m\u001b[39mUnable to save account progress, skipping data update \u001b[39m\u001b[39m\\n\u001b[39;00m\u001b[39m\\t\u001b[39;00m\u001b[39m{}\u001b[39;00m\u001b[39m\"\u001b[39m\u001b[39m.\u001b[39mformat(\n\u001b[0;32m    468\u001b[0m             \u001b[39mstr\u001b[39m(e)\u001b[39m.\u001b[39mencode(\u001b[39m\"\u001b[39m\u001b[39mutf-8\u001b[39m\u001b[39m\"\u001b[39m)\n\u001b[0;32m    469\u001b[0m         )\n\u001b[0;32m    470\u001b[0m     )\n\u001b[0;32m    472\u001b[0m \u001b[39m# logs only followers/following numbers when able to login,\u001b[39;00m\n\u001b[0;32m    473\u001b[0m \u001b[39m# to speed up the login process and avoid loading profile\u001b[39;00m\n\u001b[0;32m    474\u001b[0m \u001b[39m# page (meaning less server calls)\u001b[39;00m\n\u001b[1;32m--> 475\u001b[0m \u001b[39mself\u001b[39m\u001b[39m.\u001b[39mfollowed_by \u001b[39m=\u001b[39m log_follower_num(\u001b[39mself\u001b[39;49m\u001b[39m.\u001b[39;49mbrowser, \u001b[39mself\u001b[39;49m\u001b[39m.\u001b[39;49musername, \u001b[39mself\u001b[39;49m\u001b[39m.\u001b[39;49mlogfolder)\n\u001b[0;32m    476\u001b[0m \u001b[39mself\u001b[39m\u001b[39m.\u001b[39mfollowing_num \u001b[39m=\u001b[39m log_following_num(\n\u001b[0;32m    477\u001b[0m     \u001b[39mself\u001b[39m\u001b[39m.\u001b[39mbrowser, \u001b[39mself\u001b[39m\u001b[39m.\u001b[39musername, \u001b[39mself\u001b[39m\u001b[39m.\u001b[39mlogfolder\n\u001b[0;32m    478\u001b[0m )\n\u001b[0;32m    480\u001b[0m \u001b[39mreturn\u001b[39;00m \u001b[39mself\u001b[39m\n",
      "File \u001b[1;32mc:\\Users\\trust\\AppData\\Local\\Programs\\Python\\Python310\\lib\\site-packages\\instapy\\print_log_writer.py:19\u001b[0m, in \u001b[0;36mlog_follower_num\u001b[1;34m(browser, username, logfolder)\u001b[0m\n\u001b[0;32m     16\u001b[0m \u001b[39m\"\"\"Prints and logs the current number of followers to\u001b[39;00m\n\u001b[0;32m     17\u001b[0m \u001b[39ma separate file\"\"\"\u001b[39;00m\n\u001b[0;32m     18\u001b[0m user_link \u001b[39m=\u001b[39m \u001b[39m\"\u001b[39m\u001b[39mhttps://www.instagram.com/\u001b[39m\u001b[39m{}\u001b[39;00m\u001b[39m\"\u001b[39m\u001b[39m.\u001b[39mformat(username)\n\u001b[1;32m---> 19\u001b[0m web_address_navigator(browser, user_link)\n\u001b[0;32m     21\u001b[0m followed_by \u001b[39m=\u001b[39m getUserData(\u001b[39m\"\u001b[39m\u001b[39mgraphql.user.edge_followed_by.count\u001b[39m\u001b[39m\"\u001b[39m, browser)\n\u001b[0;32m     23\u001b[0m \u001b[39mwith\u001b[39;00m \u001b[39mopen\u001b[39m(\u001b[39m\"\u001b[39m\u001b[39m{}\u001b[39;00m\u001b[39mfollowerNum.txt\u001b[39m\u001b[39m\"\u001b[39m\u001b[39m.\u001b[39mformat(logfolder), \u001b[39m\"\u001b[39m\u001b[39ma\u001b[39m\u001b[39m\"\u001b[39m) \u001b[39mas\u001b[39;00m numFile:\n",
      "File \u001b[1;32mc:\\Users\\trust\\AppData\\Local\\Programs\\Python\\Python310\\lib\\site-packages\\instapy\\util.py:1314\u001b[0m, in \u001b[0;36mweb_address_navigator\u001b[1;34m(browser, link)\u001b[0m\n\u001b[0;32m   1312\u001b[0m \u001b[39mwhile\u001b[39;00m \u001b[39mTrue\u001b[39;00m:\n\u001b[0;32m   1313\u001b[0m     \u001b[39mtry\u001b[39;00m:\n\u001b[1;32m-> 1314\u001b[0m         browser\u001b[39m.\u001b[39;49mget(link)\n\u001b[0;32m   1315\u001b[0m         \u001b[39m# update server calls\u001b[39;00m\n\u001b[0;32m   1316\u001b[0m         update_activity(browser, state\u001b[39m=\u001b[39m\u001b[39mNone\u001b[39;00m)\n",
      "File \u001b[1;32mc:\\Users\\trust\\AppData\\Local\\Programs\\Python\\Python310\\lib\\site-packages\\selenium\\webdriver\\remote\\webdriver.py:447\u001b[0m, in \u001b[0;36mWebDriver.get\u001b[1;34m(self, url)\u001b[0m\n\u001b[0;32m    443\u001b[0m \u001b[39mdef\u001b[39;00m \u001b[39mget\u001b[39m(\u001b[39mself\u001b[39m, url: \u001b[39mstr\u001b[39m) \u001b[39m-\u001b[39m\u001b[39m>\u001b[39m \u001b[39mNone\u001b[39;00m:\n\u001b[0;32m    444\u001b[0m     \u001b[39m\"\"\"\u001b[39;00m\n\u001b[0;32m    445\u001b[0m \u001b[39m    Loads a web page in the current browser session.\u001b[39;00m\n\u001b[0;32m    446\u001b[0m \u001b[39m    \"\"\"\u001b[39;00m\n\u001b[1;32m--> 447\u001b[0m     \u001b[39mself\u001b[39;49m\u001b[39m.\u001b[39;49mexecute(Command\u001b[39m.\u001b[39;49mGET, {\u001b[39m'\u001b[39;49m\u001b[39murl\u001b[39;49m\u001b[39m'\u001b[39;49m: url})\n",
      "File \u001b[1;32mc:\\Users\\trust\\AppData\\Local\\Programs\\Python\\Python310\\lib\\site-packages\\selenium\\webdriver\\remote\\webdriver.py:435\u001b[0m, in \u001b[0;36mWebDriver.execute\u001b[1;34m(self, driver_command, params)\u001b[0m\n\u001b[0;32m    433\u001b[0m response \u001b[39m=\u001b[39m \u001b[39mself\u001b[39m\u001b[39m.\u001b[39mcommand_executor\u001b[39m.\u001b[39mexecute(driver_command, params)\n\u001b[0;32m    434\u001b[0m \u001b[39mif\u001b[39;00m response:\n\u001b[1;32m--> 435\u001b[0m     \u001b[39mself\u001b[39;49m\u001b[39m.\u001b[39;49merror_handler\u001b[39m.\u001b[39;49mcheck_response(response)\n\u001b[0;32m    436\u001b[0m     response[\u001b[39m'\u001b[39m\u001b[39mvalue\u001b[39m\u001b[39m'\u001b[39m] \u001b[39m=\u001b[39m \u001b[39mself\u001b[39m\u001b[39m.\u001b[39m_unwrap_value(\n\u001b[0;32m    437\u001b[0m         response\u001b[39m.\u001b[39mget(\u001b[39m'\u001b[39m\u001b[39mvalue\u001b[39m\u001b[39m'\u001b[39m, \u001b[39mNone\u001b[39;00m))\n\u001b[0;32m    438\u001b[0m     \u001b[39mreturn\u001b[39;00m response\n",
      "File \u001b[1;32mc:\\Users\\trust\\AppData\\Local\\Programs\\Python\\Python310\\lib\\site-packages\\selenium\\webdriver\\remote\\errorhandler.py:247\u001b[0m, in \u001b[0;36mErrorHandler.check_response\u001b[1;34m(self, response)\u001b[0m\n\u001b[0;32m    245\u001b[0m         alert_text \u001b[39m=\u001b[39m value[\u001b[39m'\u001b[39m\u001b[39malert\u001b[39m\u001b[39m'\u001b[39m]\u001b[39m.\u001b[39mget(\u001b[39m'\u001b[39m\u001b[39mtext\u001b[39m\u001b[39m'\u001b[39m)\n\u001b[0;32m    246\u001b[0m     \u001b[39mraise\u001b[39;00m exception_class(message, screen, stacktrace, alert_text)  \u001b[39m# type: ignore[call-arg]  # mypy is not smart enough here\u001b[39;00m\n\u001b[1;32m--> 247\u001b[0m \u001b[39mraise\u001b[39;00m exception_class(message, screen, stacktrace)\n",
      "\u001b[1;31mWebDriverException\u001b[0m: Message: Failed to decode response from marionette\n"
     ]
    }
   ],
   "source": [
    "from instapy import InstaPy\n",
    "from instapy import smart_run\n",
    "\n",
    "my_username = \"hacked.ryzen\"\n",
    "my_password = \"dlink123\"\n",
    "\n",
    "\n",
    "session = InstaPy(username='hacked.ryzen', password='dlink123', headless_browser=False, want_check_browser=False)\n",
    "\n",
    "with smart_run(session):\n",
    "    session.like_by_list(['bmw', 'mercedes', 'apple', 'ibm', 'amazon'], times=1, sleep_delay=600)"
   ]
  },
  {
   "cell_type": "code",
   "execution_count": null,
   "metadata": {},
   "outputs": [],
   "source": [
    "from instapy import InstaPy\n",
    "from instapy import smart_run\n",
    "\n",
    "my_username = \"hacked.ryzen\"\n",
    "my_password = \"dlink123\"\n",
    "\n",
    "\n",
    "session = InstaPy(username='hacked.ryzen', password='dlink123', headless_browser=False, want_check_browser=False)\n",
    "\n",
    "with smart_run(session):\n",
    "    session.set_relationship_bounds(enabled=True, delimit_by_numbers=True, max_followers=500, min_followers=30, min_following=50)\n",
    "    session.set_do_follow(True, percentage=100)\n",
    "    session.set_dont_like([\"nsfw\", \"kia\", \"ford\"])\n",
    "    \n",
    "    session.like_by_locations(['c2420379/losangeles-united-states/'], amount=10)"
   ]
  },
  {
   "cell_type": "code",
   "execution_count": null,
   "metadata": {},
   "outputs": [],
   "source": [
    "import random\n",
    "from instapy import InstaPy\n",
    "from instapy import smart_run\n",
    "\n",
    "# get a session!\n",
    "session = InstaPy(username='hacked.ryzen', password='dlink123', headless_browser=False, want_check_browser=False)\n",
    "\n",
    "# let's go! :>\n",
    "with smart_run(session):\n",
    "    hashtags = ['travelcouples', 'travelcommunity', 'passionpassport',\n",
    "                'travelingcouple',\n",
    "                'backpackerlife', 'travelguide', 'travelbloggers',\n",
    "                'travelblog', 'letsgoeverywhere',\n",
    "                'travelislife', 'stayandwander', 'beautifuldestinations',\n",
    "                'moodygrams',\n",
    "                'ourplanetdaily', 'travelyoga', 'travelgram', 'sunsetporn',\n",
    "                'lonelyplanet',\n",
    "                'igtravel', 'instapassport', 'travelling', 'instatraveling',\n",
    "                'travelingram',\n",
    "                'mytravelgram', 'skyporn', 'traveler', 'sunrise',\n",
    "                'sunsetlovers', 'travelblog',\n",
    "                'sunset_pics', 'visiting', 'ilovetravel',\n",
    "                'photographyoftheday', 'sunsetphotography',\n",
    "                'explorenature', 'landscapeporn', 'exploring_shotz',\n",
    "                'landscapehunter', 'colors_of_day',\n",
    "                'earthfocus', 'ig_shotz', 'ig_nature', 'discoverearth',\n",
    "                'thegreatoutdoors']\n",
    "    random.shuffle(hashtags)\n",
    "    my_hashtags = hashtags[:10]\n",
    "\n",
    "    # general settings\n",
    "    session.set_dont_like(['sad', 'rain', 'depression'])\n",
    "    session.set_do_follow(enabled=True, percentage=80, times=1)\n",
    "    session.set_do_comment(enabled=True, percentage=80)\n",
    "    session.set_comments([\n",
    "                             u'What an amazing shot! :heart_eyes: What do '\n",
    "                             u'you think of my recent shot?',\n",
    "                             u'What an amazing shot! :heart_eyes: I think '\n",
    "                             u'you might also like mine. :wink:',\n",
    "                             u'Wonderful!! :heart_eyes: Would be awesome if '\n",
    "                             u'you would checkout my photos as well!',\n",
    "                             u'Wonderful!! :heart_eyes: I would be honored '\n",
    "                             u'if you would checkout my images and tell me '\n",
    "                             u'what you think. :wink:',\n",
    "                             u'This is awesome!! :heart_eyes: Any feedback '\n",
    "                             u'for my photos? :wink:',\n",
    "                             u'This is awesome!! :heart_eyes:  maybe you '\n",
    "                             u'like my photos, too? :wink:',\n",
    "                             u'I really like the way you captured this. I '\n",
    "                             u'bet you like my photos, too :wink:',\n",
    "                             u'I really like the way you captured this. If '\n",
    "                             u'you have time, check out my photos, too. I '\n",
    "                             u'bet you will like them. :wink:',\n",
    "                             u'Great capture!! :smiley: Any feedback for my '\n",
    "                             u'recent shot? :wink:',\n",
    "                             u'Great capture!! :smiley: :thumbsup: What do '\n",
    "                             u'you think of my recent photo?'],\n",
    "                         media='Photo')\n",
    "    session.set_do_like(True, percentage=70)\n",
    "    session.set_delimit_liking(enabled=True, max_likes=100, min_likes=0)\n",
    "    session.set_delimit_commenting(enabled=True, max_comments=20, min_comments=0)\n",
    "    session.set_relationship_bounds(enabled=True,\n",
    "                                    potency_ratio=None,\n",
    "                                    delimit_by_numbers=True,\n",
    "                                    max_followers=3000,\n",
    "                                    max_following=2000,\n",
    "                                    min_followers=50,\n",
    "                                    min_following=50)\n",
    "\n",
    "    session.set_quota_supervisor(enabled=True,\n",
    "                                 sleep_after=[\"likes\", \"follows\"],\n",
    "                                 sleepyhead=True, stochastic_flow=True,\n",
    "                                 notify_me=True,\n",
    "                                 peak_likes_hourly=200,\n",
    "                                 peak_likes_daily=585,\n",
    "                                 peak_comments_hourly=80,\n",
    "                                 peak_comments_daily=182,\n",
    "                                 peak_follows_hourly=48,\n",
    "                                 peak_follows_daily=None,\n",
    "                                 peak_unfollows_hourly=35,\n",
    "                                 peak_unfollows_daily=402,\n",
    "                                 peak_server_calls_hourly=None,\n",
    "                                 peak_server_calls_daily=4700)\n",
    "\n",
    "    session.set_user_interact(amount=10, randomize=True, percentage=80)\n",
    "\n",
    "    # activity\n",
    "    session.like_by_tags(my_hashtags, amount=90, media=None)\n",
    "    session.unfollow_users(amount=500, instapy_followed_enabled=True, instapy_followed_param=\"nonfollowers\",\n",
    "                           style=\"FIFO\",\n",
    "                           unfollow_after=12 * 60 * 60, sleep_delay=501)\n",
    "    session.unfollow_users(amount=500, instapy_followed_enabled=True, instapy_followed_param=\"all\",\n",
    "                           style=\"FIFO\", unfollow_after=24 * 60 * 60,\n",
    "                           sleep_delay=501)\n",
    "\n",
    "    \"\"\" Joining Engagement Pods...\n",
    "    \"\"\"\n",
    "    session.join_pods(topic='sports', engagement_mode='no_comments')"
   ]
  },
  {
   "cell_type": "code",
   "execution_count": null,
   "metadata": {},
   "outputs": [],
   "source": []
  }
 ],
 "metadata": {
  "kernelspec": {
   "display_name": "Python 3.10.5 64-bit",
   "language": "python",
   "name": "python3"
  },
  "language_info": {
   "codemirror_mode": {
    "name": "ipython",
    "version": 3
   },
   "file_extension": ".py",
   "mimetype": "text/x-python",
   "name": "python",
   "nbconvert_exporter": "python",
   "pygments_lexer": "ipython3",
   "version": "3.10.5"
  },
  "orig_nbformat": 4,
  "vscode": {
   "interpreter": {
    "hash": "9ffeb3b031fce7e655896a116ad853dfaca853ae82c06398b16bb250d7a82514"
   }
  }
 },
 "nbformat": 4,
 "nbformat_minor": 2
}
